{
  "nbformat": 4,
  "nbformat_minor": 0,
  "metadata": {
    "colab": {
      "provenance": [],
      "collapsed_sections": []
    },
    "kernelspec": {
      "name": "python3",
      "display_name": "Python 3"
    },
    "language_info": {
      "name": "python"
    }
  },
  "cells": [
    {
      "cell_type": "code",
      "execution_count": 1,
      "metadata": {
        "colab": {
          "base_uri": "https://localhost:8080/"
        },
        "id": "5D71hOPMN95Y",
        "outputId": "b4499587-44a9-4eab-e87b-09f3cbe77040"
      },
      "outputs": [
        {
          "output_type": "stream",
          "name": "stdout",
          "text": [
            "   Unnamed: 0                                           comments  sentiment\n",
            "0           0                                  famous fly debate          1\n",
            "1           1                                         trump 2020          0\n",
            "2           2  climate gotten better becouse virus administra...          0\n",
            "3           3             wow vice president listening susan sad          1\n",
            "4           4                                 senator harris hot          1\n",
            "5           5  2020 look like end world must dreaming sleepin...          1\n",
            "6           6     barrywhite rainbow nexpo bangbang borderlands3          0\n",
            "7           7  isnt interesting right says systematic racism ...          1\n",
            "8           8  maga 2020 im toe biden eye inducked comicals a...          0\n",
            "9           9  continuation brainwashing campaign bias networ...          0\n"
          ]
        }
      ],
      "source": [
        "import numpy as np\n",
        "import pandas as pd\n",
        "import requests\n",
        "import io\n",
        "\n",
        "url = \"https://raw.githubusercontent.com/fereol023/My-ML-Courses-/main/vp_debate.csv\"\n",
        "download = requests.get(url).content\n",
        "\n",
        "df = pd.read_csv(io.StringIO(download.decode()))\n",
        "\n",
        "print(df.head(10))"
      ]
    },
    {
      "cell_type": "code",
      "source": [
        "comments = df['comments'].values\n",
        "comments = comments[:2,]\n",
        "comments"
      ],
      "metadata": {
        "colab": {
          "base_uri": "https://localhost:8080/"
        },
        "id": "0lXfMOKHPgxY",
        "outputId": "028f5e98-c433-4121-91cc-3fb59c12b2e4"
      },
      "execution_count": 2,
      "outputs": [
        {
          "output_type": "execute_result",
          "data": {
            "text/plain": [
              "array(['famous fly debate', 'trump 2020'], dtype=object)"
            ]
          },
          "metadata": {},
          "execution_count": 2
        }
      ]
    },
    {
      "cell_type": "code",
      "source": [
        "def liste_mots_par_commentaire(comments) :\n",
        "  for i in range(len(comments)) : \n",
        "    liste_de_mots = []\n",
        "    for comment in comments : \n",
        "        mot = comment.split(sep=\" \")\n",
        "        liste_de_mots.append(mot)\n",
        "  return liste_de_mots\n",
        "\n",
        "liste_mots_par_commentaire = liste_mots_par_commentaire(comments)\n",
        "print(liste_mots_par_commentaire)"
      ],
      "metadata": {
        "colab": {
          "base_uri": "https://localhost:8080/"
        },
        "id": "edkmzagiP3CY",
        "outputId": "d96b1dea-cc9d-4b48-8141-6fc69eeb399e"
      },
      "execution_count": 3,
      "outputs": [
        {
          "output_type": "stream",
          "name": "stdout",
          "text": [
            "[['famous', 'fly', 'debate'], ['trump', '2020']]\n"
          ]
        }
      ]
    },
    {
      "cell_type": "code",
      "source": [
        "def liste_mots_exhaustive(comments) : \n",
        "\n",
        "  liste_de_mots = []\n",
        "\n",
        "  for comment in comments : \n",
        "    phrase = comment.split(sep=\" \")\n",
        "    for mot in phrase :\n",
        "      liste_de_mots.append(mot)\n",
        "  #print(liste_de_mots)\n",
        "\n",
        "  return liste_de_mots\n",
        "\n",
        "liste_mots = liste_mots_exhaustive(comments)\n",
        "liste_mots"
      ],
      "metadata": {
        "colab": {
          "base_uri": "https://localhost:8080/"
        },
        "id": "YYaDDSapPxow",
        "outputId": "ee9c580e-53dc-4c18-ed96-c645b2106a63"
      },
      "execution_count": 5,
      "outputs": [
        {
          "output_type": "execute_result",
          "data": {
            "text/plain": [
              "['famous', 'fly', 'debate', 'trump', '2020']"
            ]
          },
          "metadata": {},
          "execution_count": 5
        }
      ]
    },
    {
      "cell_type": "code",
      "source": [
        "from collections import Counter\n",
        "# compte le nombre de fois qu'un mot apparait et renvoie une dictionnaire\n",
        "occurrences = Counter(liste_mots)\n",
        "occurrences\n",
        "# il faut supprimer les mots trops longs (qui ne sont pas de vrais mots)"
      ],
      "metadata": {
        "colab": {
          "base_uri": "https://localhost:8080/"
        },
        "id": "V8TNmkehSlfm",
        "outputId": "e5e373c1-ca67-4cef-be5a-5f41f38d2444"
      },
      "execution_count": 6,
      "outputs": [
        {
          "output_type": "execute_result",
          "data": {
            "text/plain": [
              "Counter({'famous': 1, 'fly': 1, 'debate': 1, 'trump': 1, '2020': 1})"
            ]
          },
          "metadata": {},
          "execution_count": 6
        }
      ]
    },
    {
      "cell_type": "code",
      "source": [
        "# enregister la liste des valeurs uniques des mots\n",
        "mots_uniques = list(occurrences.keys())\n",
        "mots_uniques"
      ],
      "metadata": {
        "colab": {
          "base_uri": "https://localhost:8080/"
        },
        "id": "DZBVxv6jIEFt",
        "outputId": "63254d8a-a92c-464a-f1c6-bfadcb1ec2a8"
      },
      "execution_count": 7,
      "outputs": [
        {
          "output_type": "execute_result",
          "data": {
            "text/plain": [
              "['famous', 'fly', 'debate', 'trump', '2020']"
            ]
          },
          "metadata": {},
          "execution_count": 7
        }
      ]
    },
    {
      "cell_type": "code",
      "source": [
        "G = {}\n",
        "cle = mots_uniques\n",
        "mots_accessibles = []\n",
        "liste_mots_par_commentaire"
      ],
      "metadata": {
        "colab": {
          "base_uri": "https://localhost:8080/"
        },
        "id": "p-NR4GmtzERS",
        "outputId": "c73eaee0-56c8-4c60-8036-0268b68720e8"
      },
      "execution_count": 13,
      "outputs": [
        {
          "output_type": "execute_result",
          "data": {
            "text/plain": [
              "[['famous', 'fly', 'debate'], ['trump', '2020']]"
            ]
          },
          "metadata": {},
          "execution_count": 13
        }
      ]
    },
    {
      "cell_type": "code",
      "source": [
        "for phrase in liste_mots_par_commentaire :\n",
        "  print(phrase)\n",
        "  for mot in phrase :\n",
        "    # récupere l'indice du mot \n",
        "    index = phrase.index(mot)\n",
        "    print(mot, index)\n",
        "    index += 1 \n",
        "    \n",
        "    #/!\\ si c'est le dernier mot de la phrase le mot_a_droite devient un \".\"\n",
        "    if index == len(phrase) : \n",
        "      mot_a_droite = \".\"\n",
        "    else :\n",
        "      mot_a_droite = phrase[index]\n",
        "    \n",
        "    print(mot_a_droite)\n",
        "    #mots_accessibles.append(mot_a_droite)\n",
        "#print(G)"
      ],
      "metadata": {
        "colab": {
          "base_uri": "https://localhost:8080/"
        },
        "id": "WN4PPtDyzoMw",
        "outputId": "034682f8-af5d-49e1-8a38-0d92c08686ad"
      },
      "execution_count": 11,
      "outputs": [
        {
          "output_type": "stream",
          "name": "stdout",
          "text": [
            "['famous', 'fly', 'debate']\n",
            "famous 0\n",
            "fly\n",
            "fly 1\n",
            "debate\n",
            "debate 2\n",
            ".\n",
            "['trump', '2020']\n",
            "trump 0\n",
            "2020\n",
            "2020 1\n",
            ".\n"
          ]
        }
      ]
    },
    {
      "cell_type": "code",
      "source": [
        "for phrase in liste_mots_par_commentaire :\n",
        "  print(phrase)\n",
        "  for mot in phrase :\n",
        "    if mot == \"famous\" :\n",
        "\n",
        "      # récupere l'indice du mot \n",
        "      index = phrase.index(mot)\n",
        "      #print(mot, index)\n",
        "      index += 1 \n",
        "      \n",
        "      #/!\\ si c'est le dernier mot de la phrase le mot_a_droite devient un \".\"\n",
        "      if index == len(phrase) : \n",
        "        mot_a_droite = \".\"\n",
        "      else :\n",
        "        mot_a_droite = phrase[index]\n",
        "      \n",
        "      print(mot_a_droite)\n",
        "      # ajoute à la liste des mots accessibles depuis la clé\n",
        "      mots_accessibles.append(mot_a_droite)\n",
        "    else : \n",
        "      pass\n",
        "\n",
        "mots_accessibles\n",
        "    \n",
        "# ==> mettre dans une donction qui prend en paramètres :\n",
        "# 1 : le mot voulu comme clé\n",
        "# 2 : la liste_mots_par_commentaire à parcourir"
      ],
      "metadata": {
        "colab": {
          "base_uri": "https://localhost:8080/"
        },
        "id": "lRvQT42xPne7",
        "outputId": "e3c7366d-f187-4ed1-a060-f2c0a618d3b2"
      },
      "execution_count": 14,
      "outputs": [
        {
          "output_type": "stream",
          "name": "stdout",
          "text": [
            "['famous', 'fly', 'debate']\n",
            "fly\n",
            "['trump', '2020']\n"
          ]
        },
        {
          "output_type": "execute_result",
          "data": {
            "text/plain": [
              "['fly']"
            ]
          },
          "metadata": {},
          "execution_count": 14
        }
      ]
    },
    {
      "cell_type": "code",
      "source": [
        "# modéliser le graphe \n",
        "G = {}\n",
        "\n",
        "# obtenir un dictionnaire où les clés sont les mots uniques\n",
        "for i in range(len(mots_uniques)) : \n",
        "  cle = mots_uniques[i]\n",
        "  mots_accessibles = []\n",
        "\n",
        "  ### CALCUL DES VALEURS CAD LA LISTE DES MOTS ACCESSIBLES DEPUIS UNE CLE \n",
        "  \n",
        "  # et où les valeurs sont l'ensemble des mots accessibles depuis cette valeurs (sommets et voisins sortants)\n",
        "  # calcul des valeurs cad liste des mots accessibles depuis le mot\n",
        "  # 1- parcourir chaque liste de liste \n",
        "  for phrase in liste_mots_par_commentaire :\n",
        "    for mot in phrase :\n",
        "      if mot == cle :\n",
        "         index = phrase.index(mot) # indice de la clé\n",
        "         index += 1 # indice du voisin de droite immediat\n",
        "         #/!\\ si c'est le dernier mot de la phrase ne fait rien\n",
        "         if index == len(phrase) : \n",
        "          mot_a_droite = \"\"\n",
        "         else :\n",
        "          mot_a_droite = phrase[index]\n",
        "         print(mot_a_droite)\n",
        "         mots_accessibles.append(mot_a_droite)\n",
        "   \n",
        "  G[i] = {cle : mots_accessibles}   \n",
        "         \n",
        "  # 2- dans chaque liste prendre l'indice du mot actuel \n",
        "  # 3- ajouter à la liste des valeurs du dictionnaire le mot d'indice suivant\n",
        "\n",
        "# ensuite un autre \n",
        "# avec la probabilité d'atteindre un mot de la liste des valeurs depuis la clé (poids des arcs)\n",
        "G"
      ],
      "metadata": {
        "colab": {
          "base_uri": "https://localhost:8080/"
        },
        "id": "MRh9a3ZEI7NQ",
        "outputId": "e09b705c-7488-4bae-acc2-2e43a94638fd"
      },
      "execution_count": null,
      "outputs": [
        {
          "output_type": "execute_result",
          "data": {
            "text/plain": [
              "{0: {'famous': ['liste', 'des', 'mots']},\n",
              " 1: {'fly': ['liste', 'des', 'mots']},\n",
              " 2: {'debate': ['liste', 'des', 'mots']},\n",
              " 3: {'trump': ['liste', 'des', 'mots']},\n",
              " 4: {'2020': ['liste', 'des', 'mots']}}"
            ]
          },
          "metadata": {},
          "execution_count": 42
        }
      ]
    }
  ]
}