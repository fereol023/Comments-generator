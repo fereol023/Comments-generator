{
  "nbformat": 4,
  "nbformat_minor": 0,
  "metadata": {
    "colab": {
      "provenance": [],
      "collapsed_sections": [],
      "authorship_tag": "ABX9TyMbIBogx6IVDHSaumuvHv7T",
      "include_colab_link": true
    },
    "kernelspec": {
      "name": "python3",
      "display_name": "Python 3"
    },
    "language_info": {
      "name": "python"
    }
  },
  "cells": [
    {
      "cell_type": "markdown",
      "metadata": {
        "id": "view-in-github",
        "colab_type": "text"
      },
      "source": [
        "<a href=\"https://colab.research.google.com/github/fereol023/Comments-generator/blob/main/Projet_ML_2.ipynb\" target=\"_parent\"><img src=\"https://colab.research.google.com/assets/colab-badge.svg\" alt=\"Open In Colab\"/></a>"
      ]
    },
    {
      "cell_type": "markdown",
      "source": [
        "Implémentez une régression classiques, ridge et lasso sur les données afin de prédire le prix d'un logement et donnez le meilleur modèle"
      ],
      "metadata": {
        "id": "umjZ5yWQV1iK"
      }
    },
    {
      "cell_type": "markdown",
      "source": [
        "Importation des librairies"
      ],
      "metadata": {
        "id": "2z-NYRXSZgiu"
      }
    },
    {
      "cell_type": "code",
      "source": [
        "import matplotlib.pyplot as plt\n",
        "import numpy as np\n",
        "import pandas as pd\n",
        "from sklearn import preprocessing\n",
        "from sklearn.model_selection import train_test_split\n",
        "from sklearn.preprocessing import PolynomialFeatures\n",
        "from sklearn.linear_model import LinearRegression\n",
        "from sklearn.metrics import mean_squared_error"
      ],
      "metadata": {
        "id": "0-0oEE61Zf9B"
      },
      "execution_count": 7,
      "outputs": []
    },
    {
      "cell_type": "markdown",
      "source": [
        "Chargement des données\n"
      ],
      "metadata": {
        "id": "MOk3WrUoV5D_"
      }
    },
    {
      "cell_type": "code",
      "execution_count": 23,
      "metadata": {
        "colab": {
          "base_uri": "https://localhost:8080/"
        },
        "id": "5DF8sXLyTRfM",
        "outputId": "4c3910e0-b1c3-4cd2-9da9-ec8852e8ebc7"
      },
      "outputs": [
        {
          "output_type": "stream",
          "name": "stdout",
          "text": [
            "Drive already mounted at /content/drive; to attempt to forcibly remount, call drive.mount(\"/content/drive\", force_remount=True).\n"
          ]
        }
      ],
      "source": [
        "from google.colab import drive\n",
        "drive.mount('/content/drive')\n",
        "#importer  la librairie Pandas\n",
        "import pandas as pd\n",
        "data= pd.read_csv(\"/content/drive/MyDrive/Data/data_house.csv\", sep=',')"
      ]
    },
    {
      "cell_type": "markdown",
      "source": [
        "Les données"
      ],
      "metadata": {
        "id": "NeYCpW0RY-9_"
      }
    },
    {
      "cell_type": "code",
      "source": [
        "data.columns\n",
        "print(data.shape)\n",
        "data = data.to_numpy()\n",
        "# la matrice de la variable à prédire\n",
        "Y = data[:,-1]\n",
        "#print(Y)\n",
        "# les variables explicatives\n",
        "X = data[:, 0:30]\n",
        "print(X)\n",
        "# Normalisation des données\n",
        "X_normalized = preprocessing.StandardScaler().fit_transform(X)\n",
        "# subdivision des données éch.test = 30% de la base totale\n",
        "x_train, x_test, y_train, y_test = train_test_split(X_normalized, Y, test_size=0.3)\n",
        "print(x_train.shape, x_test.shape, y_train.shape, y_test.shape)"
      ],
      "metadata": {
        "colab": {
          "base_uri": "https://localhost:8080/"
        },
        "id": "RKGW4dC6ZU81",
        "outputId": "eb552652-ed3e-42a4-d625-0896f2e96e65"
      },
      "execution_count": 24,
      "outputs": [
        {
          "output_type": "stream",
          "name": "stdout",
          "text": [
            "(1259, 31)\n",
            "[[ 8450  2003  2003 ...     0     2  2008]\n",
            " [ 9600  1976  1976 ...     0     5  2007]\n",
            " [11250  2001  2002 ...     0     9  2008]\n",
            " ...\n",
            " [14303  1994  1994 ...     0     8  2008]\n",
            " [ 4060  1922  1950 ...     0     7  2009]\n",
            " [ 9587  2005  2005 ...     0     7  2008]]\n",
            "(378, 30)\n"
          ]
        }
      ]
    },
    {
      "cell_type": "markdown",
      "source": [
        "Matrice de correlation"
      ],
      "metadata": {
        "id": "9nyMrYXVpP3L"
      }
    },
    {
      "cell_type": "code",
      "source": [],
      "metadata": {
        "id": "DoyJpzw2pPch"
      },
      "execution_count": null,
      "outputs": []
    },
    {
      "cell_type": "markdown",
      "source": [
        "Modele de Regression simple\n"
      ],
      "metadata": {
        "id": "y7HVi1XAayK5"
      }
    },
    {
      "cell_type": "code",
      "source": [
        "# implemetation de la regression\n",
        "from sklearn.linear_model import LogisticRegression\n",
        "from sklearn import metrics\n",
        "#création d'une instance de la classe\n",
        "import statsmodels.api as sm\n",
        "regressor_OLS = sm.OLS(Y, X)\n",
        "regressor_fit = regressor_OLS.fit()\n",
        "print(regressor_fit.summary())\n",
        "print(regressor_fit.aic)\n",
        "\n"
      ],
      "metadata": {
        "colab": {
          "base_uri": "https://localhost:8080/"
        },
        "id": "35Vq2LqRa4NQ",
        "outputId": "94d34c3e-a646-48df-a54c-61752fdedd24"
      },
      "execution_count": 25,
      "outputs": [
        {
          "output_type": "stream",
          "name": "stdout",
          "text": [
            "                                 OLS Regression Results                                \n",
            "=======================================================================================\n",
            "Dep. Variable:                      y   R-squared (uncentered):                   0.969\n",
            "Model:                            OLS   Adj. R-squared (uncentered):              0.968\n",
            "Method:                 Least Squares   F-statistic:                              1363.\n",
            "Date:                Wed, 26 Oct 2022   Prob (F-statistic):                        0.00\n",
            "Time:                        18:07:16   Log-Likelihood:                         -14961.\n",
            "No. Observations:                1259   AIC:                                  2.998e+04\n",
            "Df Residuals:                    1231   BIC:                                  3.012e+04\n",
            "Df Model:                          28                                                  \n",
            "Covariance Type:            nonrobust                                                  \n",
            "==============================================================================\n",
            "                 coef    std err          t      P>|t|      [0.025      0.975]\n",
            "------------------------------------------------------------------------------\n",
            "x1             0.4115      0.105      3.932      0.000       0.206       0.617\n",
            "x2           377.5869     57.707      6.543      0.000     264.373     490.801\n",
            "x3           477.9226     65.193      7.331      0.000     350.021     605.824\n",
            "x4            25.4665      2.836      8.979      0.000      19.902      31.031\n",
            "x5            -0.7072      4.965     -0.142      0.887     -10.447       9.033\n",
            "x6             5.7226      2.602      2.200      0.028       0.619      10.826\n",
            "x7            30.4818      3.658      8.333      0.000      23.305      37.658\n",
            "x8            26.6133      6.429      4.140      0.000      14.001      39.225\n",
            "x9            33.6134      5.978      5.623      0.000      21.886      45.341\n",
            "x10          -24.8267     15.440     -1.608      0.108     -55.119       5.466\n",
            "x11           35.4000      5.933      5.967      0.000      23.761      47.039\n",
            "x12         -527.8637   2879.712     -0.183      0.855   -6177.551    5121.823\n",
            "x13        -1452.7103   4396.727     -0.330      0.741   -1.01e+04    7173.197\n",
            "x14         1698.8978   3108.995      0.546      0.585   -4400.618    7798.414\n",
            "x15        -2840.4040   2977.975     -0.954      0.340   -8682.873    3002.065\n",
            "x16        -1.506e+04   1808.314     -8.326      0.000   -1.86e+04   -1.15e+04\n",
            "x17        -3.966e+04   5256.036     -7.546      0.000      -5e+04   -2.93e+04\n",
            "x18         8012.3597   1371.898      5.840      0.000    5320.842    1.07e+04\n",
            "x19         5380.0970   1917.514      2.806      0.005    1618.139    9142.055\n",
            "x20         3859.8562   3191.178      1.210      0.227   -2400.894    1.01e+04\n",
            "x21           34.0726     10.659      3.197      0.001      13.161      54.984\n",
            "x22           11.3328      8.823      1.284      0.199      -5.978      28.643\n",
            "x23           -0.5759     16.846     -0.034      0.973     -33.626      32.475\n",
            "x24            8.2107     18.345      0.448      0.655     -27.781      44.202\n",
            "x25           -2.5742     34.407     -0.075      0.940     -70.077      64.928\n",
            "x26           63.7429     19.350      3.294      0.001      25.780     101.706\n",
            "x27           92.5799     31.735      2.917      0.004      30.320     154.840\n",
            "x28           -0.8798      1.919     -0.458      0.647      -4.645       2.885\n",
            "x29           27.2950    376.875      0.072      0.942    -712.094     766.684\n",
            "x30         -824.6677     70.093    -11.765      0.000    -962.182    -687.153\n",
            "==============================================================================\n",
            "Omnibus:                      329.179   Durbin-Watson:                   1.955\n",
            "Prob(Omnibus):                  0.000   Jarque-Bera (JB):            22754.836\n",
            "Skew:                          -0.024   Prob(JB):                         0.00\n",
            "Kurtosis:                      23.827   Cond. No.                     1.02e+16\n",
            "==============================================================================\n",
            "\n",
            "Notes:\n",
            "[1] R² is computed without centering (uncentered) since the model does not contain a constant.\n",
            "[2] Standard Errors assume that the covariance matrix of the errors is correctly specified.\n",
            "[3] The smallest eigenvalue is 2.75e-21. This might indicate that there are\n",
            "strong multicollinearity problems or that the design matrix is singular.\n",
            "29978.600917544565\n"
          ]
        }
      ]
    },
    {
      "cell_type": "markdown",
      "source": [
        "Regression Linéaire"
      ],
      "metadata": {
        "id": "1geyWqnXe_iU"
      }
    },
    {
      "cell_type": "code",
      "source": [
        "# entrainement du modèle\n",
        "from sklearn.linear_model import LinearRegression\n",
        "from sklearn.metrics import mean_squared_error, accuracy_score\n",
        "lmodellineaire = LinearRegression()\n",
        "model_1 = lmodellineaire.fit(x_train, y_train)\n",
        "y_pred1 = model_1.predict(x_test)\n",
        "# Importer le module metric\n",
        "# Calculer les scores des modèles (accuracy, recall et f1_score )\n",
        "# Root mean square error\n",
        "#lm_rmse=sqrt(mean_squared_error(y_pred1, y_test))\n",
        "\n",
        "\n",
        "print(\"mse Linear Regression = \",mean_squared_error(y_test, y_pred1))"
      ],
      "metadata": {
        "colab": {
          "base_uri": "https://localhost:8080/"
        },
        "id": "ufR-ZrXqe-8g",
        "outputId": "dd377df2-2af2-43cc-b072-48b5cc7efff7"
      },
      "execution_count": 33,
      "outputs": [
        {
          "output_type": "stream",
          "name": "stdout",
          "text": [
            "mse Linear Regression =  1664898994.9048362\n"
          ]
        }
      ]
    },
    {
      "cell_type": "markdown",
      "source": [
        "Regression Ridge\n",
        "\n",
        "C'est une forme de regression linéaire qui est implémenter lorsque l'on veut limiter l'instabilité des prédictions liée au fait que certaines variables explicatives du modèle soient trop correlées entre elles.\n",
        "\n",
        "Pour trouver un coefficient de régulation adapté, on test un certains nombre de coef pour trouver celui qui est optimal \n"
      ],
      "metadata": {
        "id": "ppABSQ55i5ix"
      }
    },
    {
      "cell_type": "markdown",
      "source": [
        "1- Implémentation d'une regression classique"
      ],
      "metadata": {
        "id": "hF_qCeRY-dKG"
      }
    },
    {
      "cell_type": "code",
      "source": [
        "# modèle de régression \n",
        "ridge = Ridge(alpha=0)\n",
        "ridge.fit(x_train,y_train)\n",
        "w = ridge.coef_\n",
        "print(\"norme L2\",round(np.sum(ridge.coef_**2),4))"
      ],
      "metadata": {
        "colab": {
          "base_uri": "https://localhost:8080/"
        },
        "id": "Nh1bG_JP-cFH",
        "outputId": "b119dd40-e22f-432d-8d69-ebe213f673ec"
      },
      "execution_count": 38,
      "outputs": [
        {
          "output_type": "stream",
          "name": "stdout",
          "text": [
            "norme L2 3.8970061637988464e+37\n"
          ]
        }
      ]
    },
    {
      "cell_type": "code",
      "source": [
        "from sklearn.linear_model import Ridge\n",
        "# la séquence\n",
        "#alphas = np.logspace(-7,-7, 200)\n",
        "alphas = np.logspace(-5,3, 200)\n",
        "clf = Ridge()\n",
        "coefs = []\n",
        "errors = []\n",
        "\n",
        "for a in alphas:\n",
        "    clf.set_params(alpha=a)\n",
        "    clf.fit(X, Y)\n",
        "    coefs.append(clf.coef_)\n",
        "    errors.append(mean_squared_error(clf.coef_, w))\n",
        "    \n",
        "\n",
        "\n"
      ],
      "metadata": {
        "colab": {
          "base_uri": "https://localhost:8080/"
        },
        "id": "F3P-guKanrQZ",
        "outputId": "d09b7d01-c3d6-4915-824f-5dd1c8b871bc"
      },
      "execution_count": 56,
      "outputs": [
        {
          "output_type": "stream",
          "name": "stderr",
          "text": [
            "/usr/local/lib/python3.7/dist-packages/sklearn/linear_model/_ridge.py:157: LinAlgWarning: Ill-conditioned matrix (rcond=6.93092e-17): result may not be accurate.\n",
            "  return linalg.solve(A, Xy, sym_pos=True, overwrite_a=True).T\n",
            "/usr/local/lib/python3.7/dist-packages/sklearn/linear_model/_ridge.py:157: LinAlgWarning: Ill-conditioned matrix (rcond=7.60844e-17): result may not be accurate.\n",
            "  return linalg.solve(A, Xy, sym_pos=True, overwrite_a=True).T\n",
            "/usr/local/lib/python3.7/dist-packages/sklearn/linear_model/_ridge.py:157: LinAlgWarning: Ill-conditioned matrix (rcond=8.3602e-17): result may not be accurate.\n",
            "  return linalg.solve(A, Xy, sym_pos=True, overwrite_a=True).T\n",
            "/usr/local/lib/python3.7/dist-packages/sklearn/linear_model/_ridge.py:157: LinAlgWarning: Ill-conditioned matrix (rcond=9.15745e-17): result may not be accurate.\n",
            "  return linalg.solve(A, Xy, sym_pos=True, overwrite_a=True).T\n",
            "/usr/local/lib/python3.7/dist-packages/sklearn/linear_model/_ridge.py:157: LinAlgWarning: Ill-conditioned matrix (rcond=1.00706e-16): result may not be accurate.\n",
            "  return linalg.solve(A, Xy, sym_pos=True, overwrite_a=True).T\n",
            "/usr/local/lib/python3.7/dist-packages/sklearn/linear_model/_ridge.py:157: LinAlgWarning: Ill-conditioned matrix (rcond=1.1043e-16): result may not be accurate.\n",
            "  return linalg.solve(A, Xy, sym_pos=True, overwrite_a=True).T\n"
          ]
        }
      ]
    },
    {
      "cell_type": "markdown",
      "source": [
        "On trace le “profil des coefficients” "
      ],
      "metadata": {
        "id": "sSKfvade6CkJ"
      }
    },
    {
      "cell_type": "markdown",
      "source": [
        "Adaptez au besoin la séquence de paramètres."
      ],
      "metadata": {
        "id": "vFlC8RtF6PZs"
      }
    },
    {
      "cell_type": "code",
      "source": [
        "plt.figure()\n",
        "\n",
        "plt.subplot(121)\n",
        "ax = plt.gca()\n",
        "ax.plot(alphas, coefs)\n",
        "ax.set_xscale(\"log\")\n",
        "plt.xlabel(\"alpha\")\n",
        "plt.ylabel(\"weights\")\n",
        "plt.title(\"Profil des coefficients\")\n",
        "plt.axis(\"tight\")\n",
        "\n",
        "plt.subplot(122)\n",
        "ax = plt.gca()\n",
        "ax.plot(alphas, errors)\n",
        "ax.set_xscale(\"log\")\n",
        "plt.xlabel(\"alpha\")\n",
        "plt.ylabel(\"error\")\n",
        "plt.title(\"Comparaison avec la régression\")\n",
        "plt.axis(\"tight\")\n",
        "\n",
        "plt.show()"
      ],
      "metadata": {
        "colab": {
          "base_uri": "https://localhost:8080/",
          "height": 299
        },
        "id": "TBSrW7ac6Diq",
        "outputId": "8e8e6c54-5faf-43c3-b9b0-518215add93a"
      },
      "execution_count": 55,
      "outputs": [
        {
          "output_type": "display_data",
          "data": {
            "text/plain": [
              "<Figure size 432x288 with 2 Axes>"
            ],
            "image/png": "[encoded data removed]"
          },
          "metadata": {
            "needs_background": "light"
          }
        }
      ]
    },
    {
      "cell_type": "markdown",
      "source": [
        "La figure affiche l'évolution de la valeur des différents poids associés aux paramètres\n",
        "\n",
        "Comment évoluent la valeur de coefficients en fonction de λ?\n",
        "\n",
        "On va utiliser la validation croisée pour trouver le λ optimal."
      ],
      "metadata": {
        "id": "jmEqdtJI6WOI"
      }
    }
  ]
}